{
 "cells": [
  {
   "cell_type": "markdown",
   "metadata": {},
   "source": [
    "# Capstone Project - The Battle of Neighborhoods (Week 1)"
   ]
  },
  {
   "cell_type": "markdown",
   "metadata": {},
   "source": [
    "## Introduction"
   ]
  },
  {
   "cell_type": "markdown",
   "metadata": {},
   "source": [
    "The problem that I am going to takle is to compare the neighbourhoods of Toronto and  New York (restricted to Manhattan) and try to identify clusters of similar ones across both cities. \n",
    "\n",
    "The idea behind that is for someone moving from one city to the other to be able to find a similar neighbourhood to live in.\n",
    "\n",
    "The audiance is therefore someone moving from New York (Manhattan) to Toronto or from Toronto to New York (Manhattan) and looking for a similar neighbourhoods to live in."
   ]
  },
  {
   "cell_type": "markdown",
   "metadata": {},
   "source": [
    "## Data"
   ]
  },
  {
   "cell_type": "markdown",
   "metadata": {},
   "source": [
    "The data that will be used for this analysis is the same one used for the New York and Toronto projects but the idea is to analyse them together.\n",
    "\n",
    "In detail, the data used will be:\n",
    "\n",
    "- A dataset of NY that contains the 5 boroughs and the neighborhoods that exist in each borough (306 in total) as well as the the latitude and longitude coordinates of each neighborhood.\n",
    "    This dataset can be found at the following address: https://cf-courses-data.s3.us.cloud-object-storage.appdomain.cloud/IBMDeveloperSkillsNetwork-DS0701EN-SkillsNetwork/labs/newyork_data.json\n",
    "    \n",
    "- A similar dataset will be constructed for Toronto using the data from the wikipedia page https://en.wikipedia.org/wiki/List_of_postal_codes_of_Canada:_M and a csv file available here http://cocl.us/Geospatial_data for the latitudes and longitudes\n",
    "\n",
    "- With those datasets, the top 100 venues for each neighborhood will be retrieved using the Foursquare API and the clustering analysis will be done using the type of venues present in each neighborhood and their frequency\n",
    "    \n",
    "    \n",
    "    \n",
    "    "
   ]
  },
  {
   "cell_type": "markdown",
   "metadata": {},
   "source": [
    "## Methodology"
   ]
  },
  {
   "cell_type": "markdown",
   "metadata": {},
   "source": [
    "To be completed in week 2"
   ]
  },
  {
   "cell_type": "markdown",
   "metadata": {},
   "source": [
    "## Results"
   ]
  },
  {
   "cell_type": "markdown",
   "metadata": {},
   "source": [
    "To be completed in week 2"
   ]
  },
  {
   "cell_type": "markdown",
   "metadata": {},
   "source": [
    "## Discussion"
   ]
  },
  {
   "cell_type": "markdown",
   "metadata": {},
   "source": [
    "To be completed in week 2"
   ]
  },
  {
   "cell_type": "markdown",
   "metadata": {},
   "source": [
    "## Conclusion"
   ]
  },
  {
   "cell_type": "markdown",
   "metadata": {},
   "source": [
    "To be completed in week 2"
   ]
  }
 ],
 "metadata": {
  "kernelspec": {
   "display_name": "Python 3",
   "language": "python",
   "name": "python3"
  },
  "language_info": {
   "codemirror_mode": {
    "name": "ipython",
    "version": 3
   },
   "file_extension": ".py",
   "mimetype": "text/x-python",
   "name": "python",
   "nbconvert_exporter": "python",
   "pygments_lexer": "ipython3",
   "version": "3.8.3"
  }
 },
 "nbformat": 4,
 "nbformat_minor": 4
}
